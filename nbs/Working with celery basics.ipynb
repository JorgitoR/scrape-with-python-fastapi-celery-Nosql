{
 "cells": [
  {
   "cell_type": "code",
   "execution_count": 1,
   "id": "6fe5e8eb",
   "metadata": {},
   "outputs": [
    {
     "name": "stdout",
     "output_type": "stream",
     "text": [
      "/mnt/c/Users/Jorge Uribe/Documents/Educacion/Python/project1/Scrape-Websites-with-Python-FastAPI-Celery-NoSQL\n"
     ]
    }
   ],
   "source": [
    "cd /mnt/c/Users/Jorge Uribe/Documents/Educacion/Python/project1/Scrape-Websites-with-Python-FastAPI-Celery-NoSQL"
   ]
  },
  {
   "cell_type": "code",
   "execution_count": 2,
   "id": "da3ec0b1",
   "metadata": {},
   "outputs": [],
   "source": [
    "from app.worker import random_task"
   ]
  },
  {
   "cell_type": "code",
   "execution_count": 3,
   "id": "2889893d",
   "metadata": {},
   "outputs": [
    {
     "name": "stdout",
     "output_type": "stream",
     "text": [
      "Hello jorgito\n"
     ]
    }
   ],
   "source": [
    "random_task(\"jorgito\")"
   ]
  },
  {
   "cell_type": "code",
   "execution_count": 4,
   "id": "cfa12fcd",
   "metadata": {},
   "outputs": [
    {
     "data": {
      "text/plain": [
       "<AsyncResult: 09234821-299d-4b66-9a93-feffd8eea388>"
      ]
     },
     "execution_count": 4,
     "metadata": {},
     "output_type": "execute_result"
    }
   ],
   "source": [
    "random_task.delay(\"jorgito\")"
   ]
  },
  {
   "cell_type": "code",
   "execution_count": 10,
   "id": "558f2c6a",
   "metadata": {},
   "outputs": [],
   "source": [
    "for i in range(10):\n",
    "    random_task.delay(f\"jorgito-{i}\")"
   ]
  },
  {
   "cell_type": "code",
   "execution_count": null,
   "id": "88006922",
   "metadata": {},
   "outputs": [],
   "source": [
    "for i in range(10):\n",
    "    random_task.apply_async(args=(f\"jorgito-{i}\", ), countdown=10)"
   ]
  },
  {
   "cell_type": "code",
   "execution_count": null,
   "id": "b871c67f",
   "metadata": {},
   "outputs": [],
   "source": []
  },
  {
   "cell_type": "code",
   "execution_count": null,
   "id": "4defb460",
   "metadata": {},
   "outputs": [],
   "source": []
  }
 ],
 "metadata": {
  "kernelspec": {
   "display_name": "Python 3 (ipykernel)",
   "language": "python",
   "name": "python3"
  },
  "language_info": {
   "codemirror_mode": {
    "name": "ipython",
    "version": 3
   },
   "file_extension": ".py",
   "mimetype": "text/x-python",
   "name": "python",
   "nbconvert_exporter": "python",
   "pygments_lexer": "ipython3",
   "version": "3.10.12"
  }
 },
 "nbformat": 4,
 "nbformat_minor": 5
}
