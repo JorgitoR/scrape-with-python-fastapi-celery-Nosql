{
 "cells": [
  {
   "cell_type": "code",
   "execution_count": 12,
   "id": "9a9dbb73",
   "metadata": {},
   "outputs": [
    {
     "name": "stdout",
     "output_type": "stream",
     "text": [
      "/mnt/c/Users/Jorge Uribe/Documents/Educacion/Python/project1/Scrape-Websites-with-Python-FastAPI-Celery-NoSQL\n"
     ]
    }
   ],
   "source": [
    "cd /mnt/c/Users/Jorge Uribe/Documents/Educacion/Python/project1/Scrape-Websites-with-Python-FastAPI-Celery-NoSQL"
   ]
  },
  {
   "cell_type": "code",
   "execution_count": 13,
   "id": "105241b8",
   "metadata": {},
   "outputs": [],
   "source": [
    "from app.worker import random_task"
   ]
  },
  {
   "cell_type": "code",
   "execution_count": 14,
   "id": "a3ee9af4",
   "metadata": {},
   "outputs": [
    {
     "name": "stdout",
     "output_type": "stream",
     "text": [
      "Hello jorgito\n"
     ]
    }
   ],
   "source": [
    "random_task(\"jorgito\")"
   ]
  },
  {
   "cell_type": "code",
   "execution_count": 18,
   "id": "9310ee74",
   "metadata": {},
   "outputs": [
    {
     "name": "stdout",
     "output_type": "stream",
     "text": [
      "Hello jorgito\n"
     ]
    }
   ],
   "source": [
    "random_task.s(\"jorgito\")() # s. this create a signuter"
   ]
  },
  {
   "cell_type": "code",
   "execution_count": 19,
   "id": "19e64322",
   "metadata": {},
   "outputs": [],
   "source": [
    "sig = random_task.s(\"jorgito\")"
   ]
  },
  {
   "cell_type": "code",
   "execution_count": 20,
   "id": "1ca50585",
   "metadata": {},
   "outputs": [
    {
     "name": "stdout",
     "output_type": "stream",
     "text": [
      "Hello jorgito\n"
     ]
    }
   ],
   "source": [
    "sig()"
   ]
  },
  {
   "cell_type": "code",
   "execution_count": 15,
   "id": "b1535795",
   "metadata": {},
   "outputs": [
    {
     "data": {
      "text/plain": [
       "<AsyncResult: 5bf0fbb2-fb34-4cf7-ba9f-db04592b9568>"
      ]
     },
     "execution_count": 15,
     "metadata": {},
     "output_type": "execute_result"
    }
   ],
   "source": [
    "random_task.delay(\"jorgito\")"
   ]
  },
  {
   "cell_type": "code",
   "execution_count": null,
   "id": "43f60a39",
   "metadata": {},
   "outputs": [],
   "source": []
  },
  {
   "cell_type": "code",
   "execution_count": 16,
   "id": "4d8ed328",
   "metadata": {},
   "outputs": [],
   "source": [
    "for i in range(10):\n",
    "    # random_task.apply_async(args=(f\"jorgito-{i}\", )) -> is the same below\n",
    "    random_task.delay(f\"jorgito-{i}\")"
   ]
  },
  {
   "cell_type": "code",
   "execution_count": 17,
   "id": "13763a26",
   "metadata": {},
   "outputs": [],
   "source": [
    "for i in range(10):\n",
    "    random_task.apply_async(args=(f\"jorgito-{i}\", ), countdown=10)"
   ]
  },
  {
   "cell_type": "code",
   "execution_count": null,
   "id": "30aad54a",
   "metadata": {},
   "outputs": [],
   "source": []
  },
  {
   "cell_type": "code",
   "execution_count": null,
   "id": "dde4e92a",
   "metadata": {},
   "outputs": [],
   "source": []
  }
 ],
 "metadata": {
  "kernelspec": {
   "display_name": "Python 3 (ipykernel)",
   "language": "python",
   "name": "python3"
  },
  "language_info": {
   "codemirror_mode": {
    "name": "ipython",
    "version": 3
   },
   "file_extension": ".py",
   "mimetype": "text/x-python",
   "name": "python",
   "nbconvert_exporter": "python",
   "pygments_lexer": "ipython3",
   "version": "3.10.12"
  }
 },
 "nbformat": 4,
 "nbformat_minor": 5
}
