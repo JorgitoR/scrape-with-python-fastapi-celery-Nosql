{
 "cells": [
  {
   "cell_type": "code",
   "execution_count": 1,
   "id": "dd20631d",
   "metadata": {},
   "outputs": [
    {
     "name": "stdout",
     "output_type": "stream",
     "text": [
      "/mnt/c/Users/Jorge Uribe/Documents/Educacion/Python/project1/Scrape-Websites-with-Python-FastAPI-Celery-NoSQL\n"
     ]
    }
   ],
   "source": [
    "cd /mnt/c/Users/Jorge Uribe/Documents/Educacion/Python/project1/Scrape-Websites-with-Python-FastAPI-Celery-NoSQL"
   ]
  },
  {
   "cell_type": "code",
   "execution_count": 2,
   "id": "fae48678",
   "metadata": {},
   "outputs": [],
   "source": [
    "from app import db, crud, models, schema"
   ]
  },
  {
   "cell_type": "code",
   "execution_count": 3,
   "id": "5c78a365",
   "metadata": {},
   "outputs": [],
   "source": [
    "session = db.get_session()"
   ]
  },
  {
   "cell_type": "code",
   "execution_count": 4,
   "id": "81c8c405",
   "metadata": {},
   "outputs": [],
   "source": [
    "data = models.data"
   ]
  },
  {
   "cell_type": "code",
   "execution_count": 5,
   "id": "1fb4c560",
   "metadata": {},
   "outputs": [],
   "source": [
    "from pydantic import BaseModel"
   ]
  },
  {
   "cell_type": "code",
   "execution_count": 6,
   "id": "9de0383f",
   "metadata": {},
   "outputs": [],
   "source": [
    "class ProductBaseModel(BaseModel):\n",
    "    asin: str\n",
    "    title: str"
   ]
  },
  {
   "cell_type": "code",
   "execution_count": 7,
   "id": "c3e7aee5",
   "metadata": {},
   "outputs": [
    {
     "data": {
      "text/plain": [
       "{'asin': '333333', 'title': 'hello world'}"
      ]
     },
     "execution_count": 7,
     "metadata": {},
     "output_type": "execute_result"
    }
   ],
   "source": [
    "product = ProductBaseModel(**data)\n",
    "product.dict()"
   ]
  },
  {
   "cell_type": "code",
   "execution_count": 8,
   "id": "e1dabc70",
   "metadata": {},
   "outputs": [
    {
     "data": {
      "text/plain": [
       "(Product(asin='333333', title='hello world', price_str='-1'),\n",
       " ProducScrapeEvent(uuid=UUID('b3e7887c-5f06-11ee-bfd1-83869a5f6ef4'), asin='333333', title='hello world', price_str='-1'))"
      ]
     },
     "execution_count": 8,
     "metadata": {},
     "output_type": "execute_result"
    }
   ],
   "source": [
    "crud.add_scrape_event(product.dict(), fresh=True)"
   ]
  },
  {
   "cell_type": "code",
   "execution_count": 10,
   "id": "c1b0fb8e",
   "metadata": {},
   "outputs": [],
   "source": [
    "import uuid\n",
    "from pydantic import ValidationError\n",
    "\n",
    "data = dict(data)\n",
    "data['uuid'] = uuid.uuid1()\n",
    "try:\n",
    "    schema.ProductScrapeEventSchema(**data)\n",
    "except ValidationError as e:\n",
    "    print(e.json())"
   ]
  },
  {
   "cell_type": "code",
   "execution_count": null,
   "id": "1f2ed9e7",
   "metadata": {},
   "outputs": [],
   "source": []
  }
 ],
 "metadata": {
  "kernelspec": {
   "display_name": "Python 3 (ipykernel)",
   "language": "python",
   "name": "python3"
  },
  "language_info": {
   "codemirror_mode": {
    "name": "ipython",
    "version": 3
   },
   "file_extension": ".py",
   "mimetype": "text/x-python",
   "name": "python",
   "nbconvert_exporter": "python",
   "pygments_lexer": "ipython3",
   "version": "3.10.12"
  }
 },
 "nbformat": 4,
 "nbformat_minor": 5
}
