{
 "cells": [
  {
   "cell_type": "code",
   "execution_count": 1,
   "id": "1ac06f0f",
   "metadata": {},
   "outputs": [
    {
     "name": "stdout",
     "output_type": "stream",
     "text": [
      "/mnt/c/Users/Jorge Uribe/Documents/Educacion/Python/project1/Scrape-Websites-with-Python-FastAPI-Celery-NoSQL/nbs\r\n"
     ]
    }
   ],
   "source": [
    "!pwd"
   ]
  },
  {
   "cell_type": "code",
   "execution_count": 2,
   "id": "dd20631d",
   "metadata": {},
   "outputs": [
    {
     "name": "stdout",
     "output_type": "stream",
     "text": [
      "/mnt/c/Users/Jorge Uribe/Documents/Educacion/Python/project1/Scrape-Websites-with-Python-FastAPI-Celery-NoSQL\n"
     ]
    }
   ],
   "source": [
    "cd /mnt/c/Users/Jorge Uribe/Documents/Educacion/Python/project1/Scrape-Websites-with-Python-FastAPI-Celery-NoSQL"
   ]
  },
  {
   "cell_type": "code",
   "execution_count": 3,
   "id": "fae48678",
   "metadata": {},
   "outputs": [],
   "source": [
    "from app import db, crud, models, main"
   ]
  },
  {
   "cell_type": "code",
   "execution_count": 4,
   "id": "5c78a365",
   "metadata": {},
   "outputs": [],
   "source": [
    "session = db.get_session()\n",
    "main.on_startup()"
   ]
  },
  {
   "cell_type": "code",
   "execution_count": 7,
   "id": "81c8c405",
   "metadata": {},
   "outputs": [
    {
     "name": "stdout",
     "output_type": "stream",
     "text": [
      "{'asin': '333333', 'title': 'hello world'}\n"
     ]
    }
   ],
   "source": [
    "data = models.data\n",
    "print(data)"
   ]
  },
  {
   "cell_type": "code",
   "execution_count": 8,
   "id": "1f6cfbf1",
   "metadata": {},
   "outputs": [
    {
     "data": {
      "text/plain": [
       "(Product(asin='333333', title='hello world', price_str='-1'),\n",
       " ProducScrapeEvent(uuid=UUID('0829ae98-5fab-11ee-bfd1-83869a5f6ef4'), asin='333333', title='hello world', price_str='-1'))"
      ]
     },
     "execution_count": 8,
     "metadata": {},
     "output_type": "execute_result"
    }
   ],
   "source": [
    "crud.add_scrape_event(data, fresh=True)"
   ]
  },
  {
   "cell_type": "code",
   "execution_count": 9,
   "id": "3257d55b",
   "metadata": {},
   "outputs": [
    {
     "data": {
      "text/plain": [
       "[ProducScrapeEvent(uuid=UUID('b3e7887c-5f06-11ee-bfd1-83869a5f6ef4'), asin='333333', title='hello world', price_str='-1'),\n",
       " ProducScrapeEvent(uuid=UUID('aa7a0c36-5f03-11ee-bfd1-83869a5f6ef4'), asin='333333', title='hello world', price_str='-1'),\n",
       " ProducScrapeEvent(uuid=UUID('1aa18458-5efa-11ee-bfd1-83869a5f6ef4'), asin='14545657567', title='hello world', price_str='-1'),\n",
       " ProducScrapeEvent(uuid=UUID('4c0d032e-5efe-11ee-bfd1-83869a5f6ef4'), asin='14545657567', title='hello world', price_str='-1'),\n",
       " ProducScrapeEvent(uuid=UUID('87940d16-5efe-11ee-bfd1-83869a5f6ef4'), asin='14545657567', title='hello world', price_str='-1'),\n",
       " ProducScrapeEvent(uuid=UUID('b3f13d26-5efd-11ee-bfd1-83869a5f6ef4'), asin='14545657567', title='hello world', price_str='-1'),\n",
       " ProducScrapeEvent(uuid=UUID('ab902010-5f03-11ee-bfd1-83869a5f6ef4'), asin='333333', title='hello world', price_str='-1'),\n",
       " ProducScrapeEvent(uuid=UUID('b143e5bc-5efb-11ee-bfd1-83869a5f6ef4'), asin='14545657567', title='hello world', price_str='-1'),\n",
       " ProducScrapeEvent(uuid=UUID('28a66f34-5efd-11ee-bfd1-83869a5f6ef4'), asin='14545657567', title='hello world', price_str='-1'),\n",
       " ProducScrapeEvent(uuid=UUID('730d2080-5fa8-11ee-bfd1-83869a5f6ef4'), asin='333333', title='hello world', price_str='-1'),\n",
       " ProducScrapeEvent(uuid=UUID('0829ae98-5fab-11ee-bfd1-83869a5f6ef4'), asin='333333', title='hello world', price_str='-1'),\n",
       " ProducScrapeEvent(uuid=UUID('9dc7ca82-5efe-11ee-bfd1-83869a5f6ef4'), asin='333333', title='hello world', price_str='-1'),\n",
       " ProducScrapeEvent(uuid=UUID('a90fe88e-5f03-11ee-bfd1-83869a5f6ef4'), asin='333333', title='hello world', price_str='-1')]"
      ]
     },
     "execution_count": 9,
     "metadata": {},
     "output_type": "execute_result"
    }
   ],
   "source": [
    "list(models.Product.objects.all())\n",
    "list(models.ProducScrapeEvent.objects.all())"
   ]
  },
  {
   "cell_type": "code",
   "execution_count": 10,
   "id": "a0ae8665",
   "metadata": {},
   "outputs": [
    {
     "name": "stdout",
     "output_type": "stream",
     "text": [
      "14545657567\n",
      "333333\n"
     ]
    },
    {
     "data": {
      "text/plain": [
       "'333333'"
      ]
     },
     "execution_count": 10,
     "metadata": {},
     "output_type": "execute_result"
    }
   ],
   "source": [
    "asin = \"333333\"\n",
    "for obj in models.Product.objects().all():\n",
    "    print(obj.asin)\n",
    "\n",
    "asin"
   ]
  },
  {
   "cell_type": "code",
   "execution_count": 11,
   "id": "d7b53366",
   "metadata": {},
   "outputs": [
    {
     "name": "stdout",
     "output_type": "stream",
     "text": [
      "Scrape events for 333333\n",
      "0 333333 b3e7887c-5f06-11ee-bfd1-83869a5f6ef4\n",
      "1 333333 aa7a0c36-5f03-11ee-bfd1-83869a5f6ef4\n",
      "2 333333 ab902010-5f03-11ee-bfd1-83869a5f6ef4\n",
      "3 333333 730d2080-5fa8-11ee-bfd1-83869a5f6ef4\n",
      "4 333333 0829ae98-5fab-11ee-bfd1-83869a5f6ef4\n",
      "5 333333 9dc7ca82-5efe-11ee-bfd1-83869a5f6ef4\n",
      "6 333333 a90fe88e-5f03-11ee-bfd1-83869a5f6ef4\n"
     ]
    }
   ],
   "source": [
    "if asin is not None:\n",
    "    print(f\"Scrape events for {asin}\")\n",
    "    q = models.ProducScrapeEvent.objects.filter(asin=asin)\n",
    "    for i, obj in enumerate(q):\n",
    "        print(i, obj.asin, obj.uuid)\n",
    "    "
   ]
  },
  {
   "cell_type": "code",
   "execution_count": 12,
   "id": "08e5cbea",
   "metadata": {},
   "outputs": [
    {
     "name": "stdout",
     "output_type": "stream",
     "text": [
      "SELECT * FROM scraper_app.product LIMIT 10000\n"
     ]
    }
   ],
   "source": [
    "print(models.Product.objects.all())"
   ]
  },
  {
   "cell_type": "code",
   "execution_count": null,
   "id": "4f05c230",
   "metadata": {},
   "outputs": [],
   "source": [
    "q = models.Product.objects.all()\n",
    "print(dir(q))"
   ]
  },
  {
   "cell_type": "code",
   "execution_count": null,
   "id": "a01ffac0",
   "metadata": {},
   "outputs": [],
   "source": [
    "q = models.Product.objects.all()\n",
    "q._select_query()"
   ]
  },
  {
   "cell_type": "code",
   "execution_count": null,
   "id": "f8f1d9c6",
   "metadata": {},
   "outputs": [],
   "source": [
    "for row in session.execute('SELECT * FROM scraper_app.product LIMIT 10000'):\n",
    "    print(row)"
   ]
  },
  {
   "cell_type": "code",
   "execution_count": null,
   "id": "1fb4c560",
   "metadata": {},
   "outputs": [],
   "source": []
  }
 ],
 "metadata": {
  "kernelspec": {
   "display_name": "Python 3 (ipykernel)",
   "language": "python",
   "name": "python3"
  },
  "language_info": {
   "codemirror_mode": {
    "name": "ipython",
    "version": 3
   },
   "file_extension": ".py",
   "mimetype": "text/x-python",
   "name": "python",
   "nbconvert_exporter": "python",
   "pygments_lexer": "ipython3",
   "version": "3.10.12"
  }
 },
 "nbformat": 4,
 "nbformat_minor": 5
}
